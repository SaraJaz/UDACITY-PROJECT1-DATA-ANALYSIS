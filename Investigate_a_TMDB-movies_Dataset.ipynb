{
 "cells": [
  {
   "cell_type": "markdown",
   "id": "80730769",
   "metadata": {},
   "source": [
    "# project:Investigate a dataset (tmdb_movies dataset)\n",
    "**Table of contents**\n",
    "1. Introduction\n",
    "2. Data Wrangling\n",
    "3. Exploratory Data Analysis\n",
    "4. Conclusions\n",
    "\n"
   ]
  },
  {
   "cell_type": "markdown",
   "id": "22e3c860",
   "metadata": {},
   "source": [
    "## Introduction\n",
    "**overview**\n",
    "In order to complete my first project which is the first step to success in nanodegree data analysis, I choose to investigate imdb movie dataset.\n",
    "\n",
    "This data set contains information about 10,000 movies collected from The Movie Database (TMDb),including user ratings and revenue.it contains 21 rows.\n",
    "\n",
    "**Requirenments**\n",
    "\n",
    "First,we will need to install python and import some libraries/packages such as:\n",
    "1. Numpy - a library for the Python programming language, adding support for large, multi-dimensional arrays and matrices, along with a large collection of high-level mathematical functions to operate on these arrays.\n",
    "2. Pandas - a library for the Python programming language, it offers data structures and operations for manipulating numerical tables and time series.\n",
    "3. Matplotlib - Matplotlib is a plotting library for the Python programming language and its numerical mathematics extension NumPy\n"
   ]
  },
  {
   "cell_type": "code",
   "execution_count": 1,
   "id": "222207e8",
   "metadata": {},
   "outputs": [],
   "source": [
    "#import necessaries packages\n",
    "import numpy as np\n",
    "import pandas as pd\n",
    "import seaborn as sns\n",
    "import matplotlib.pyplot as plt\n",
    "\n"
   ]
  },
  {
   "cell_type": "markdown",
   "id": "14c9ecbf",
   "metadata": {},
   "source": [
    "**Questions to be answered for analysis the data set:**\n",
    "1. Which movies have the highest and lowest profit? \n",
    "2. What is the average runtime for all movies?\n",
    "3. What is the relation between popularity and revenue?\n",
    "4. What is the relation between budget and profit?\n",
    "5. What is the relation between rating and profit?\n",
    "6. Are there any differences in top 10 movies based on profit , popularity and rating?\n",
    "7. Who are the top 10 Directors based on rating?\n",
    "8. Which are the top 20 successfully genres?\n",
    "9. Who are the most 10 casts appeared ?\n",
    "10. What is the state of profits during the years?\n"
   ]
  },
  {
   "cell_type": "markdown",
   "id": "731c8f3f",
   "metadata": {},
   "source": [
    "## Data Wrangling\n"
   ]
  },
  {
   "cell_type": "markdown",
   "id": "7e5206e4",
   "metadata": {},
   "source": [
    "**General Properties**\n",
    "let’s load or read the dataset and see upper columns."
   ]
  },
  {
   "cell_type": "code",
   "execution_count": 2,
   "id": "40b5e26b",
   "metadata": {},
   "outputs": [
    {
     "data": {
      "text/html": [
       "<div>\n",
       "<style scoped>\n",
       "    .dataframe tbody tr th:only-of-type {\n",
       "        vertical-align: middle;\n",
       "    }\n",
       "\n",
       "    .dataframe tbody tr th {\n",
       "        vertical-align: top;\n",
       "    }\n",
       "\n",
       "    .dataframe thead th {\n",
       "        text-align: right;\n",
       "    }\n",
       "</style>\n",
       "<table border=\"1\" class=\"dataframe\">\n",
       "  <thead>\n",
       "    <tr style=\"text-align: right;\">\n",
       "      <th></th>\n",
       "      <th>id</th>\n",
       "      <th>imdb_id</th>\n",
       "      <th>popularity</th>\n",
       "      <th>budget</th>\n",
       "      <th>revenue</th>\n",
       "      <th>original_title</th>\n",
       "      <th>cast</th>\n",
       "      <th>homepage</th>\n",
       "      <th>director</th>\n",
       "      <th>tagline</th>\n",
       "      <th>...</th>\n",
       "      <th>overview</th>\n",
       "      <th>runtime</th>\n",
       "      <th>genres</th>\n",
       "      <th>production_companies</th>\n",
       "      <th>release_date</th>\n",
       "      <th>vote_count</th>\n",
       "      <th>vote_average</th>\n",
       "      <th>release_year</th>\n",
       "      <th>budget_adj</th>\n",
       "      <th>revenue_adj</th>\n",
       "    </tr>\n",
       "  </thead>\n",
       "  <tbody>\n",
       "    <tr>\n",
       "      <th>0</th>\n",
       "      <td>135397</td>\n",
       "      <td>tt0369610</td>\n",
       "      <td>32.985763</td>\n",
       "      <td>150000000</td>\n",
       "      <td>1513528810</td>\n",
       "      <td>Jurassic World</td>\n",
       "      <td>Chris Pratt|Bryce Dallas Howard|Irrfan Khan|Vi...</td>\n",
       "      <td>http://www.jurassicworld.com/</td>\n",
       "      <td>Colin Trevorrow</td>\n",
       "      <td>The park is open.</td>\n",
       "      <td>...</td>\n",
       "      <td>Twenty-two years after the events of Jurassic ...</td>\n",
       "      <td>124</td>\n",
       "      <td>Action|Adventure|Science Fiction|Thriller</td>\n",
       "      <td>Universal Studios|Amblin Entertainment|Legenda...</td>\n",
       "      <td>6/9/15</td>\n",
       "      <td>5562</td>\n",
       "      <td>6.5</td>\n",
       "      <td>2015</td>\n",
       "      <td>1.379999e+08</td>\n",
       "      <td>1.392446e+09</td>\n",
       "    </tr>\n",
       "    <tr>\n",
       "      <th>1</th>\n",
       "      <td>76341</td>\n",
       "      <td>tt1392190</td>\n",
       "      <td>28.419936</td>\n",
       "      <td>150000000</td>\n",
       "      <td>378436354</td>\n",
       "      <td>Mad Max: Fury Road</td>\n",
       "      <td>Tom Hardy|Charlize Theron|Hugh Keays-Byrne|Nic...</td>\n",
       "      <td>http://www.madmaxmovie.com/</td>\n",
       "      <td>George Miller</td>\n",
       "      <td>What a Lovely Day.</td>\n",
       "      <td>...</td>\n",
       "      <td>An apocalyptic story set in the furthest reach...</td>\n",
       "      <td>120</td>\n",
       "      <td>Action|Adventure|Science Fiction|Thriller</td>\n",
       "      <td>Village Roadshow Pictures|Kennedy Miller Produ...</td>\n",
       "      <td>5/13/15</td>\n",
       "      <td>6185</td>\n",
       "      <td>7.1</td>\n",
       "      <td>2015</td>\n",
       "      <td>1.379999e+08</td>\n",
       "      <td>3.481613e+08</td>\n",
       "    </tr>\n",
       "    <tr>\n",
       "      <th>2</th>\n",
       "      <td>262500</td>\n",
       "      <td>tt2908446</td>\n",
       "      <td>13.112507</td>\n",
       "      <td>110000000</td>\n",
       "      <td>295238201</td>\n",
       "      <td>Insurgent</td>\n",
       "      <td>Shailene Woodley|Theo James|Kate Winslet|Ansel...</td>\n",
       "      <td>http://www.thedivergentseries.movie/#insurgent</td>\n",
       "      <td>Robert Schwentke</td>\n",
       "      <td>One Choice Can Destroy You</td>\n",
       "      <td>...</td>\n",
       "      <td>Beatrice Prior must confront her inner demons ...</td>\n",
       "      <td>119</td>\n",
       "      <td>Adventure|Science Fiction|Thriller</td>\n",
       "      <td>Summit Entertainment|Mandeville Films|Red Wago...</td>\n",
       "      <td>3/18/15</td>\n",
       "      <td>2480</td>\n",
       "      <td>6.3</td>\n",
       "      <td>2015</td>\n",
       "      <td>1.012000e+08</td>\n",
       "      <td>2.716190e+08</td>\n",
       "    </tr>\n",
       "    <tr>\n",
       "      <th>3</th>\n",
       "      <td>140607</td>\n",
       "      <td>tt2488496</td>\n",
       "      <td>11.173104</td>\n",
       "      <td>200000000</td>\n",
       "      <td>2068178225</td>\n",
       "      <td>Star Wars: The Force Awakens</td>\n",
       "      <td>Harrison Ford|Mark Hamill|Carrie Fisher|Adam D...</td>\n",
       "      <td>http://www.starwars.com/films/star-wars-episod...</td>\n",
       "      <td>J.J. Abrams</td>\n",
       "      <td>Every generation has a story.</td>\n",
       "      <td>...</td>\n",
       "      <td>Thirty years after defeating the Galactic Empi...</td>\n",
       "      <td>136</td>\n",
       "      <td>Action|Adventure|Science Fiction|Fantasy</td>\n",
       "      <td>Lucasfilm|Truenorth Productions|Bad Robot</td>\n",
       "      <td>12/15/15</td>\n",
       "      <td>5292</td>\n",
       "      <td>7.5</td>\n",
       "      <td>2015</td>\n",
       "      <td>1.839999e+08</td>\n",
       "      <td>1.902723e+09</td>\n",
       "    </tr>\n",
       "    <tr>\n",
       "      <th>4</th>\n",
       "      <td>168259</td>\n",
       "      <td>tt2820852</td>\n",
       "      <td>9.335014</td>\n",
       "      <td>190000000</td>\n",
       "      <td>1506249360</td>\n",
       "      <td>Furious 7</td>\n",
       "      <td>Vin Diesel|Paul Walker|Jason Statham|Michelle ...</td>\n",
       "      <td>http://www.furious7.com/</td>\n",
       "      <td>James Wan</td>\n",
       "      <td>Vengeance Hits Home</td>\n",
       "      <td>...</td>\n",
       "      <td>Deckard Shaw seeks revenge against Dominic Tor...</td>\n",
       "      <td>137</td>\n",
       "      <td>Action|Crime|Thriller</td>\n",
       "      <td>Universal Pictures|Original Film|Media Rights ...</td>\n",
       "      <td>4/1/15</td>\n",
       "      <td>2947</td>\n",
       "      <td>7.3</td>\n",
       "      <td>2015</td>\n",
       "      <td>1.747999e+08</td>\n",
       "      <td>1.385749e+09</td>\n",
       "    </tr>\n",
       "  </tbody>\n",
       "</table>\n",
       "<p>5 rows × 21 columns</p>\n",
       "</div>"
      ],
      "text/plain": [
       "       id    imdb_id  popularity     budget     revenue  \\\n",
       "0  135397  tt0369610   32.985763  150000000  1513528810   \n",
       "1   76341  tt1392190   28.419936  150000000   378436354   \n",
       "2  262500  tt2908446   13.112507  110000000   295238201   \n",
       "3  140607  tt2488496   11.173104  200000000  2068178225   \n",
       "4  168259  tt2820852    9.335014  190000000  1506249360   \n",
       "\n",
       "                 original_title  \\\n",
       "0                Jurassic World   \n",
       "1            Mad Max: Fury Road   \n",
       "2                     Insurgent   \n",
       "3  Star Wars: The Force Awakens   \n",
       "4                     Furious 7   \n",
       "\n",
       "                                                cast  \\\n",
       "0  Chris Pratt|Bryce Dallas Howard|Irrfan Khan|Vi...   \n",
       "1  Tom Hardy|Charlize Theron|Hugh Keays-Byrne|Nic...   \n",
       "2  Shailene Woodley|Theo James|Kate Winslet|Ansel...   \n",
       "3  Harrison Ford|Mark Hamill|Carrie Fisher|Adam D...   \n",
       "4  Vin Diesel|Paul Walker|Jason Statham|Michelle ...   \n",
       "\n",
       "                                            homepage          director  \\\n",
       "0                      http://www.jurassicworld.com/   Colin Trevorrow   \n",
       "1                        http://www.madmaxmovie.com/     George Miller   \n",
       "2     http://www.thedivergentseries.movie/#insurgent  Robert Schwentke   \n",
       "3  http://www.starwars.com/films/star-wars-episod...       J.J. Abrams   \n",
       "4                           http://www.furious7.com/         James Wan   \n",
       "\n",
       "                         tagline  ...  \\\n",
       "0              The park is open.  ...   \n",
       "1             What a Lovely Day.  ...   \n",
       "2     One Choice Can Destroy You  ...   \n",
       "3  Every generation has a story.  ...   \n",
       "4            Vengeance Hits Home  ...   \n",
       "\n",
       "                                            overview runtime  \\\n",
       "0  Twenty-two years after the events of Jurassic ...     124   \n",
       "1  An apocalyptic story set in the furthest reach...     120   \n",
       "2  Beatrice Prior must confront her inner demons ...     119   \n",
       "3  Thirty years after defeating the Galactic Empi...     136   \n",
       "4  Deckard Shaw seeks revenge against Dominic Tor...     137   \n",
       "\n",
       "                                      genres  \\\n",
       "0  Action|Adventure|Science Fiction|Thriller   \n",
       "1  Action|Adventure|Science Fiction|Thriller   \n",
       "2         Adventure|Science Fiction|Thriller   \n",
       "3   Action|Adventure|Science Fiction|Fantasy   \n",
       "4                      Action|Crime|Thriller   \n",
       "\n",
       "                                production_companies release_date vote_count  \\\n",
       "0  Universal Studios|Amblin Entertainment|Legenda...       6/9/15       5562   \n",
       "1  Village Roadshow Pictures|Kennedy Miller Produ...      5/13/15       6185   \n",
       "2  Summit Entertainment|Mandeville Films|Red Wago...      3/18/15       2480   \n",
       "3          Lucasfilm|Truenorth Productions|Bad Robot     12/15/15       5292   \n",
       "4  Universal Pictures|Original Film|Media Rights ...       4/1/15       2947   \n",
       "\n",
       "   vote_average  release_year    budget_adj   revenue_adj  \n",
       "0           6.5          2015  1.379999e+08  1.392446e+09  \n",
       "1           7.1          2015  1.379999e+08  3.481613e+08  \n",
       "2           6.3          2015  1.012000e+08  2.716190e+08  \n",
       "3           7.5          2015  1.839999e+08  1.902723e+09  \n",
       "4           7.3          2015  1.747999e+08  1.385749e+09  \n",
       "\n",
       "[5 rows x 21 columns]"
      ]
     },
     "execution_count": 2,
     "metadata": {},
     "output_type": "execute_result"
    }
   ],
   "source": [
    "#loading the csv file#\n",
    "tmbd = pd.read_csv('tmdb-movies.csv')\n",
    "#printing first five rows \n",
    "tmbd.head()"
   ]
  },
  {
   "cell_type": "code",
   "execution_count": 3,
   "id": "b2b2103c",
   "metadata": {},
   "outputs": [
    {
     "name": "stdout",
     "output_type": "stream",
     "text": [
      "<class 'pandas.core.frame.DataFrame'>\n",
      "RangeIndex: 10866 entries, 0 to 10865\n",
      "Data columns (total 21 columns):\n",
      " #   Column                Non-Null Count  Dtype  \n",
      "---  ------                --------------  -----  \n",
      " 0   id                    10866 non-null  int64  \n",
      " 1   imdb_id               10856 non-null  object \n",
      " 2   popularity            10866 non-null  float64\n",
      " 3   budget                10866 non-null  int64  \n",
      " 4   revenue               10866 non-null  int64  \n",
      " 5   original_title        10866 non-null  object \n",
      " 6   cast                  10790 non-null  object \n",
      " 7   homepage              2936 non-null   object \n",
      " 8   director              10822 non-null  object \n",
      " 9   tagline               8042 non-null   object \n",
      " 10  keywords              9373 non-null   object \n",
      " 11  overview              10862 non-null  object \n",
      " 12  runtime               10866 non-null  int64  \n",
      " 13  genres                10843 non-null  object \n",
      " 14  production_companies  9836 non-null   object \n",
      " 15  release_date          10866 non-null  object \n",
      " 16  vote_count            10866 non-null  int64  \n",
      " 17  vote_average          10866 non-null  float64\n",
      " 18  release_year          10866 non-null  int64  \n",
      " 19  budget_adj            10866 non-null  float64\n",
      " 20  revenue_adj           10866 non-null  float64\n",
      "dtypes: float64(4), int64(6), object(11)\n",
      "memory usage: 1.7+ MB\n"
     ]
    }
   ],
   "source": [
    "tmbd.info()"
   ]
  },
  {
   "cell_type": "markdown",
   "id": "5c122ac0",
   "metadata": {},
   "source": [
    "**Data cleaning**\n",
    " observation regarding (tmbd.info)\n",
    "\n",
    "We need to clean our data in before by doing the following steps:\n",
    "1. Removing/dropeed duplicate rows\n",
    "2. Changing the format of release date into DateTime format.\n",
    "3. Removing the unused colunms\n",
    "4. check null rows and delete."
   ]
  },
  {
   "cell_type": "code",
   "execution_count": 4,
   "id": "55bcd702",
   "metadata": {},
   "outputs": [
    {
     "data": {
      "text/plain": [
       "1"
      ]
     },
     "execution_count": 4,
     "metadata": {},
     "output_type": "execute_result"
    }
   ],
   "source": [
    "#how many rows are duplicated\n",
    "tmbd.duplicated().sum()"
   ]
  },
  {
   "cell_type": "code",
   "execution_count": 5,
   "id": "587cddd1",
   "metadata": {},
   "outputs": [
    {
     "data": {
      "text/html": [
       "<div>\n",
       "<style scoped>\n",
       "    .dataframe tbody tr th:only-of-type {\n",
       "        vertical-align: middle;\n",
       "    }\n",
       "\n",
       "    .dataframe tbody tr th {\n",
       "        vertical-align: top;\n",
       "    }\n",
       "\n",
       "    .dataframe thead th {\n",
       "        text-align: right;\n",
       "    }\n",
       "</style>\n",
       "<table border=\"1\" class=\"dataframe\">\n",
       "  <thead>\n",
       "    <tr style=\"text-align: right;\">\n",
       "      <th></th>\n",
       "      <th>id</th>\n",
       "      <th>imdb_id</th>\n",
       "      <th>popularity</th>\n",
       "      <th>budget</th>\n",
       "      <th>revenue</th>\n",
       "      <th>original_title</th>\n",
       "      <th>cast</th>\n",
       "      <th>homepage</th>\n",
       "      <th>director</th>\n",
       "      <th>tagline</th>\n",
       "      <th>...</th>\n",
       "      <th>overview</th>\n",
       "      <th>runtime</th>\n",
       "      <th>genres</th>\n",
       "      <th>production_companies</th>\n",
       "      <th>release_date</th>\n",
       "      <th>vote_count</th>\n",
       "      <th>vote_average</th>\n",
       "      <th>release_year</th>\n",
       "      <th>budget_adj</th>\n",
       "      <th>revenue_adj</th>\n",
       "    </tr>\n",
       "  </thead>\n",
       "  <tbody>\n",
       "    <tr>\n",
       "      <th>2090</th>\n",
       "      <td>42194</td>\n",
       "      <td>tt0411951</td>\n",
       "      <td>0.59643</td>\n",
       "      <td>30000000</td>\n",
       "      <td>967000</td>\n",
       "      <td>TEKKEN</td>\n",
       "      <td>Jon Foo|Kelly Overton|Cary-Hiroyuki Tagawa|Ian...</td>\n",
       "      <td>NaN</td>\n",
       "      <td>Dwight H. Little</td>\n",
       "      <td>Survival is no game</td>\n",
       "      <td>...</td>\n",
       "      <td>In the year of 2039, after World Wars destroy ...</td>\n",
       "      <td>92</td>\n",
       "      <td>Crime|Drama|Action|Thriller|Science Fiction</td>\n",
       "      <td>Namco|Light Song Films</td>\n",
       "      <td>3/20/10</td>\n",
       "      <td>110</td>\n",
       "      <td>5.0</td>\n",
       "      <td>2010</td>\n",
       "      <td>30000000.0</td>\n",
       "      <td>967000.0</td>\n",
       "    </tr>\n",
       "  </tbody>\n",
       "</table>\n",
       "<p>1 rows × 21 columns</p>\n",
       "</div>"
      ],
      "text/plain": [
       "         id    imdb_id  popularity    budget  revenue original_title  \\\n",
       "2090  42194  tt0411951     0.59643  30000000   967000         TEKKEN   \n",
       "\n",
       "                                                   cast homepage  \\\n",
       "2090  Jon Foo|Kelly Overton|Cary-Hiroyuki Tagawa|Ian...      NaN   \n",
       "\n",
       "              director              tagline  ...  \\\n",
       "2090  Dwight H. Little  Survival is no game  ...   \n",
       "\n",
       "                                               overview runtime  \\\n",
       "2090  In the year of 2039, after World Wars destroy ...      92   \n",
       "\n",
       "                                           genres    production_companies  \\\n",
       "2090  Crime|Drama|Action|Thriller|Science Fiction  Namco|Light Song Films   \n",
       "\n",
       "     release_date vote_count  vote_average  release_year  budget_adj  \\\n",
       "2090      3/20/10        110           5.0          2010  30000000.0   \n",
       "\n",
       "      revenue_adj  \n",
       "2090     967000.0  \n",
       "\n",
       "[1 rows x 21 columns]"
      ]
     },
     "execution_count": 5,
     "metadata": {},
     "output_type": "execute_result"
    }
   ],
   "source": [
    "#which row is duplicated\n",
    "tmbd[tmbd.duplicated()]"
   ]
  },
  {
   "cell_type": "code",
   "execution_count": 6,
   "id": "b8741076",
   "metadata": {},
   "outputs": [],
   "source": [
    "#drop the duplicated row#\n",
    "tmbd.drop([2090],axis = 0 , inplace = True)"
   ]
  },
  {
   "cell_type": "code",
   "execution_count": 7,
   "id": "1c53517d",
   "metadata": {},
   "outputs": [
    {
     "data": {
      "text/plain": [
       "0"
      ]
     },
     "execution_count": 7,
     "metadata": {},
     "output_type": "execute_result"
    }
   ],
   "source": [
    "#check for duplicated again#\n",
    "tmbd.duplicated().sum()"
   ]
  },
  {
   "cell_type": "code",
   "execution_count": 8,
   "id": "271c630d",
   "metadata": {},
   "outputs": [
    {
     "data": {
      "text/plain": [
       "0   2015-06-09\n",
       "1   2015-05-13\n",
       "2   2015-03-18\n",
       "3   2015-12-15\n",
       "4   2015-04-01\n",
       "Name: release_date, dtype: datetime64[ns]"
      ]
     },
     "execution_count": 8,
     "metadata": {},
     "output_type": "execute_result"
    }
   ],
   "source": [
    "#changing release_data format to datetime format\n",
    "tmbd['release_date'] = pd.to_datetime(tmbd['release_date'])\n",
    "tmbd['release_date'].head()"
   ]
  },
  {
   "cell_type": "code",
   "execution_count": 9,
   "id": "c52c5f57",
   "metadata": {},
   "outputs": [
    {
     "data": {
      "text/plain": [
       "id                         0\n",
       "imdb_id                   10\n",
       "popularity                 0\n",
       "budget                     0\n",
       "revenue                    0\n",
       "original_title             0\n",
       "cast                      76\n",
       "homepage                7929\n",
       "director                  44\n",
       "tagline                 2824\n",
       "keywords                1493\n",
       "overview                   4\n",
       "runtime                    0\n",
       "genres                    23\n",
       "production_companies    1030\n",
       "release_date               0\n",
       "vote_count                 0\n",
       "vote_average               0\n",
       "release_year               0\n",
       "budget_adj                 0\n",
       "revenue_adj                0\n",
       "dtype: int64"
      ]
     },
     "execution_count": 9,
     "metadata": {},
     "output_type": "execute_result"
    }
   ],
   "source": [
    "#Check for null dataset\n",
    "tmbd.isnull().sum()"
   ]
  },
  {
   "cell_type": "code",
   "execution_count": 10,
   "id": "5ab5d403",
   "metadata": {},
   "outputs": [
    {
     "name": "stdout",
     "output_type": "stream",
     "text": [
      "<class 'pandas.core.frame.DataFrame'>\n",
      "Int64Index: 10865 entries, 0 to 10865\n",
      "Data columns (total 14 columns):\n",
      " #   Column                Non-Null Count  Dtype         \n",
      "---  ------                --------------  -----         \n",
      " 0   id                    10865 non-null  int64         \n",
      " 1   popularity            10865 non-null  float64       \n",
      " 2   budget                10865 non-null  int64         \n",
      " 3   revenue               10865 non-null  int64         \n",
      " 4   original_title        10865 non-null  object        \n",
      " 5   cast                  10789 non-null  object        \n",
      " 6   director              10821 non-null  object        \n",
      " 7   runtime               10865 non-null  int64         \n",
      " 8   genres                10842 non-null  object        \n",
      " 9   production_companies  9835 non-null   object        \n",
      " 10  release_date          10865 non-null  datetime64[ns]\n",
      " 11  vote_count            10865 non-null  int64         \n",
      " 12  vote_average          10865 non-null  float64       \n",
      " 13  release_year          10865 non-null  int64         \n",
      "dtypes: datetime64[ns](1), float64(2), int64(6), object(5)\n",
      "memory usage: 1.2+ MB\n"
     ]
    }
   ],
   "source": [
    "#drop unecessary columns\n",
    "#del_col= ['imdb_id','homepage','keywords','tagline','budget_adj','revenue_adj', 'overview'],\n",
    "tmbd.drop(columns=['imdb_id', 'homepage','tagline', 'keywords', 'overview', 'budget_adj','revenue_adj'],inplace = True)\n",
    "tmbd.info()\n"
   ]
  },
  {
   "cell_type": "code",
   "execution_count": 11,
   "id": "37a0d5e8",
   "metadata": {},
   "outputs": [
    {
     "data": {
      "text/plain": [
       "array([  92,  334,  410,  445,  486,  595,  616, 1241, 1289, 1293, 1849,\n",
       "       2315, 2370, 3329, 3794, 3857, 3884, 4063, 4138, 4829, 4944, 5216,\n",
       "       5695, 5920, 5938, 5992, 6040, 6383, 6552, 6934, 8874], dtype=int64)"
      ]
     },
     "execution_count": 11,
     "metadata": {},
     "output_type": "execute_result"
    }
   ],
   "source": [
    "#Check for zero runtime\n",
    "tmbd[tmbd['runtime'] == 0].index.values\n",
    "#tmbd[tmbd['runtime'] == 0]"
   ]
  },
  {
   "cell_type": "code",
   "execution_count": 12,
   "id": "248ac27f",
   "metadata": {},
   "outputs": [],
   "source": [
    "#Drop rows where runtime equals to zero\n",
    "tmbd.drop(labels= [92,334,410,445,486,595,  616, 1241, 1289, 1293, 1849,\n",
    "       2315, 2370, 3329, 3794, 3857, 3884, 4063, 4138, 4829, 4944, 5216,\n",
    "       5695, 5920, 5938, 5992, 6040, 6383, 6552, 6934, 8874],inplace = True)"
   ]
  },
  {
   "cell_type": "code",
   "execution_count": 13,
   "id": "fccbd232",
   "metadata": {},
   "outputs": [
    {
     "data": {
      "text/plain": [
       "array([], dtype=int64)"
      ]
     },
     "execution_count": 13,
     "metadata": {},
     "output_type": "execute_result"
    }
   ],
   "source": [
    "#Check again\n",
    "tmbd[tmbd['runtime'] == 0].index.values"
   ]
  },
  {
   "cell_type": "code",
   "execution_count": 14,
   "id": "2ad031ca",
   "metadata": {},
   "outputs": [
    {
     "name": "stdout",
     "output_type": "stream",
     "text": [
      "<class 'pandas.core.frame.DataFrame'>\n",
      "Int64Index: 10834 entries, 0 to 10865\n",
      "Data columns (total 14 columns):\n",
      " #   Column                Non-Null Count  Dtype         \n",
      "---  ------                --------------  -----         \n",
      " 0   id                    10834 non-null  int64         \n",
      " 1   popularity            10834 non-null  float64       \n",
      " 2   budget                10834 non-null  int64         \n",
      " 3   revenue               10834 non-null  int64         \n",
      " 4   original_title        10834 non-null  object        \n",
      " 5   cast                  10758 non-null  object        \n",
      " 6   director              10792 non-null  object        \n",
      " 7   runtime               10834 non-null  int64         \n",
      " 8   genres                10812 non-null  object        \n",
      " 9   production_companies  9822 non-null   object        \n",
      " 10  release_date          10834 non-null  datetime64[ns]\n",
      " 11  vote_count            10834 non-null  int64         \n",
      " 12  vote_average          10834 non-null  float64       \n",
      " 13  release_year          10834 non-null  int64         \n",
      "dtypes: datetime64[ns](1), float64(2), int64(6), object(5)\n",
      "memory usage: 1.2+ MB\n"
     ]
    }
   ],
   "source": [
    "tmbd.head()\n",
    "tmbd.info()"
   ]
  },
  {
   "cell_type": "markdown",
   "id": "b38c7995",
   "metadata": {},
   "source": [
    "## Exploratory Data Analysis\n",
    "We will now answering our questions that we have been asked in Introduction section by computing statistics and create visualizations."
   ]
  },
  {
   "cell_type": "markdown",
   "id": "a4af8d7e",
   "metadata": {},
   "source": [
    "### Movies earned the highest and lowest profit"
   ]
  },
  {
   "cell_type": "code",
   "execution_count": 15,
   "id": "0d255909",
   "metadata": {},
   "outputs": [
    {
     "data": {
      "text/html": [
       "<div>\n",
       "<style scoped>\n",
       "    .dataframe tbody tr th:only-of-type {\n",
       "        vertical-align: middle;\n",
       "    }\n",
       "\n",
       "    .dataframe tbody tr th {\n",
       "        vertical-align: top;\n",
       "    }\n",
       "\n",
       "    .dataframe thead th {\n",
       "        text-align: right;\n",
       "    }\n",
       "</style>\n",
       "<table border=\"1\" class=\"dataframe\">\n",
       "  <thead>\n",
       "    <tr style=\"text-align: right;\">\n",
       "      <th></th>\n",
       "      <th>id</th>\n",
       "      <th>popularity</th>\n",
       "      <th>budget</th>\n",
       "      <th>revenue</th>\n",
       "      <th>original_title</th>\n",
       "      <th>cast</th>\n",
       "      <th>director</th>\n",
       "      <th>runtime</th>\n",
       "      <th>genres</th>\n",
       "      <th>production_companies</th>\n",
       "      <th>release_date</th>\n",
       "      <th>vote_count</th>\n",
       "      <th>vote_average</th>\n",
       "      <th>release_year</th>\n",
       "      <th>profit</th>\n",
       "    </tr>\n",
       "  </thead>\n",
       "  <tbody>\n",
       "    <tr>\n",
       "      <th>10766</th>\n",
       "      <td>23916</td>\n",
       "      <td>0.591799</td>\n",
       "      <td>0</td>\n",
       "      <td>7185518</td>\n",
       "      <td>Paradise Alley</td>\n",
       "      <td>Sylvester Stallone|Lee Canalito|Armand Assante...</td>\n",
       "      <td>Sylvester Stallone</td>\n",
       "      <td>107</td>\n",
       "      <td>Action|Adventure|Drama</td>\n",
       "      <td>Image Ten</td>\n",
       "      <td>1978-09-22</td>\n",
       "      <td>12</td>\n",
       "      <td>6.0</td>\n",
       "      <td>1978</td>\n",
       "      <td>7185518</td>\n",
       "    </tr>\n",
       "    <tr>\n",
       "      <th>10767</th>\n",
       "      <td>13333</td>\n",
       "      <td>0.581236</td>\n",
       "      <td>0</td>\n",
       "      <td>0</td>\n",
       "      <td>Game of Death</td>\n",
       "      <td>Bruce Lee|Kareem Abdul-Jabbar|Chuck Norris|Col...</td>\n",
       "      <td>Robert Clouse</td>\n",
       "      <td>103</td>\n",
       "      <td>Drama|Action|Thriller|Crime</td>\n",
       "      <td>Golden Harvest Company|Concord Productions Inc.</td>\n",
       "      <td>1978-03-22</td>\n",
       "      <td>50</td>\n",
       "      <td>6.4</td>\n",
       "      <td>1978</td>\n",
       "      <td>0</td>\n",
       "    </tr>\n",
       "    <tr>\n",
       "      <th>10768</th>\n",
       "      <td>74849</td>\n",
       "      <td>0.573763</td>\n",
       "      <td>0</td>\n",
       "      <td>0</td>\n",
       "      <td>The Star Wars Holiday Special</td>\n",
       "      <td>Harrison Ford|Mark Hamill|Anthony Daniels|Carr...</td>\n",
       "      <td>Steve Binder</td>\n",
       "      <td>97</td>\n",
       "      <td>Adventure|Comedy|Family|Science Fiction|TV Movie</td>\n",
       "      <td>20th Century Fox Television|Smith-Hemion Produ...</td>\n",
       "      <td>1978-12-01</td>\n",
       "      <td>45</td>\n",
       "      <td>3.2</td>\n",
       "      <td>1978</td>\n",
       "      <td>0</td>\n",
       "    </tr>\n",
       "    <tr>\n",
       "      <th>10769</th>\n",
       "      <td>26973</td>\n",
       "      <td>0.556161</td>\n",
       "      <td>0</td>\n",
       "      <td>0</td>\n",
       "      <td>Pretty Baby</td>\n",
       "      <td>Brooke Shields|Keith Carradine|Susan Sarandon|...</td>\n",
       "      <td>Louis Malle</td>\n",
       "      <td>110</td>\n",
       "      <td>Drama|History</td>\n",
       "      <td>Paramount Pictures|Synthetic Fur Productions</td>\n",
       "      <td>1978-04-05</td>\n",
       "      <td>20</td>\n",
       "      <td>5.9</td>\n",
       "      <td>1978</td>\n",
       "      <td>0</td>\n",
       "    </tr>\n",
       "    <tr>\n",
       "      <th>10770</th>\n",
       "      <td>11327</td>\n",
       "      <td>0.512719</td>\n",
       "      <td>2300000</td>\n",
       "      <td>35000000</td>\n",
       "      <td>Midnight Express</td>\n",
       "      <td>Brad Davis|Irene Miracle|Bo Hopkins|Randy Quai...</td>\n",
       "      <td>Alan Parker</td>\n",
       "      <td>121</td>\n",
       "      <td>Drama|Crime</td>\n",
       "      <td>Columbia Pictures|Casablanca Filmworks</td>\n",
       "      <td>1978-10-06</td>\n",
       "      <td>141</td>\n",
       "      <td>7.5</td>\n",
       "      <td>1978</td>\n",
       "      <td>32700000</td>\n",
       "    </tr>\n",
       "    <tr>\n",
       "      <th>...</th>\n",
       "      <td>...</td>\n",
       "      <td>...</td>\n",
       "      <td>...</td>\n",
       "      <td>...</td>\n",
       "      <td>...</td>\n",
       "      <td>...</td>\n",
       "      <td>...</td>\n",
       "      <td>...</td>\n",
       "      <td>...</td>\n",
       "      <td>...</td>\n",
       "      <td>...</td>\n",
       "      <td>...</td>\n",
       "      <td>...</td>\n",
       "      <td>...</td>\n",
       "      <td>...</td>\n",
       "    </tr>\n",
       "    <tr>\n",
       "      <th>10861</th>\n",
       "      <td>21</td>\n",
       "      <td>0.080598</td>\n",
       "      <td>0</td>\n",
       "      <td>0</td>\n",
       "      <td>The Endless Summer</td>\n",
       "      <td>Michael Hynson|Robert August|Lord 'Tally Ho' B...</td>\n",
       "      <td>Bruce Brown</td>\n",
       "      <td>95</td>\n",
       "      <td>Documentary</td>\n",
       "      <td>Bruce Brown Films</td>\n",
       "      <td>2066-06-15</td>\n",
       "      <td>11</td>\n",
       "      <td>7.4</td>\n",
       "      <td>1966</td>\n",
       "      <td>0</td>\n",
       "    </tr>\n",
       "    <tr>\n",
       "      <th>10862</th>\n",
       "      <td>20379</td>\n",
       "      <td>0.065543</td>\n",
       "      <td>0</td>\n",
       "      <td>0</td>\n",
       "      <td>Grand Prix</td>\n",
       "      <td>James Garner|Eva Marie Saint|Yves Montand|Tosh...</td>\n",
       "      <td>John Frankenheimer</td>\n",
       "      <td>176</td>\n",
       "      <td>Action|Adventure|Drama</td>\n",
       "      <td>Cherokee Productions|Joel Productions|Douglas ...</td>\n",
       "      <td>2066-12-21</td>\n",
       "      <td>20</td>\n",
       "      <td>5.7</td>\n",
       "      <td>1966</td>\n",
       "      <td>0</td>\n",
       "    </tr>\n",
       "    <tr>\n",
       "      <th>10863</th>\n",
       "      <td>39768</td>\n",
       "      <td>0.065141</td>\n",
       "      <td>0</td>\n",
       "      <td>0</td>\n",
       "      <td>Beregis Avtomobilya</td>\n",
       "      <td>Innokentiy Smoktunovskiy|Oleg Efremov|Georgi Z...</td>\n",
       "      <td>Eldar Ryazanov</td>\n",
       "      <td>94</td>\n",
       "      <td>Mystery|Comedy</td>\n",
       "      <td>Mosfilm</td>\n",
       "      <td>2066-01-01</td>\n",
       "      <td>11</td>\n",
       "      <td>6.5</td>\n",
       "      <td>1966</td>\n",
       "      <td>0</td>\n",
       "    </tr>\n",
       "    <tr>\n",
       "      <th>10864</th>\n",
       "      <td>21449</td>\n",
       "      <td>0.064317</td>\n",
       "      <td>0</td>\n",
       "      <td>0</td>\n",
       "      <td>What's Up, Tiger Lily?</td>\n",
       "      <td>Tatsuya Mihashi|Akiko Wakabayashi|Mie Hama|Joh...</td>\n",
       "      <td>Woody Allen</td>\n",
       "      <td>80</td>\n",
       "      <td>Action|Comedy</td>\n",
       "      <td>Benedict Pictures Corp.</td>\n",
       "      <td>2066-11-02</td>\n",
       "      <td>22</td>\n",
       "      <td>5.4</td>\n",
       "      <td>1966</td>\n",
       "      <td>0</td>\n",
       "    </tr>\n",
       "    <tr>\n",
       "      <th>10865</th>\n",
       "      <td>22293</td>\n",
       "      <td>0.035919</td>\n",
       "      <td>19000</td>\n",
       "      <td>0</td>\n",
       "      <td>Manos: The Hands of Fate</td>\n",
       "      <td>Harold P. Warren|Tom Neyman|John Reynolds|Dian...</td>\n",
       "      <td>Harold P. Warren</td>\n",
       "      <td>74</td>\n",
       "      <td>Horror</td>\n",
       "      <td>Norm-Iris</td>\n",
       "      <td>2066-11-15</td>\n",
       "      <td>15</td>\n",
       "      <td>1.5</td>\n",
       "      <td>1966</td>\n",
       "      <td>-19000</td>\n",
       "    </tr>\n",
       "  </tbody>\n",
       "</table>\n",
       "<p>100 rows × 15 columns</p>\n",
       "</div>"
      ],
      "text/plain": [
       "          id  popularity   budget   revenue                 original_title  \\\n",
       "10766  23916    0.591799        0   7185518                 Paradise Alley   \n",
       "10767  13333    0.581236        0         0                  Game of Death   \n",
       "10768  74849    0.573763        0         0  The Star Wars Holiday Special   \n",
       "10769  26973    0.556161        0         0                    Pretty Baby   \n",
       "10770  11327    0.512719  2300000  35000000               Midnight Express   \n",
       "...      ...         ...      ...       ...                            ...   \n",
       "10861     21    0.080598        0         0             The Endless Summer   \n",
       "10862  20379    0.065543        0         0                     Grand Prix   \n",
       "10863  39768    0.065141        0         0            Beregis Avtomobilya   \n",
       "10864  21449    0.064317        0         0         What's Up, Tiger Lily?   \n",
       "10865  22293    0.035919    19000         0       Manos: The Hands of Fate   \n",
       "\n",
       "                                                    cast            director  \\\n",
       "10766  Sylvester Stallone|Lee Canalito|Armand Assante...  Sylvester Stallone   \n",
       "10767  Bruce Lee|Kareem Abdul-Jabbar|Chuck Norris|Col...       Robert Clouse   \n",
       "10768  Harrison Ford|Mark Hamill|Anthony Daniels|Carr...        Steve Binder   \n",
       "10769  Brooke Shields|Keith Carradine|Susan Sarandon|...         Louis Malle   \n",
       "10770  Brad Davis|Irene Miracle|Bo Hopkins|Randy Quai...         Alan Parker   \n",
       "...                                                  ...                 ...   \n",
       "10861  Michael Hynson|Robert August|Lord 'Tally Ho' B...         Bruce Brown   \n",
       "10862  James Garner|Eva Marie Saint|Yves Montand|Tosh...  John Frankenheimer   \n",
       "10863  Innokentiy Smoktunovskiy|Oleg Efremov|Georgi Z...      Eldar Ryazanov   \n",
       "10864  Tatsuya Mihashi|Akiko Wakabayashi|Mie Hama|Joh...         Woody Allen   \n",
       "10865  Harold P. Warren|Tom Neyman|John Reynolds|Dian...    Harold P. Warren   \n",
       "\n",
       "       runtime                                            genres  \\\n",
       "10766      107                            Action|Adventure|Drama   \n",
       "10767      103                       Drama|Action|Thriller|Crime   \n",
       "10768       97  Adventure|Comedy|Family|Science Fiction|TV Movie   \n",
       "10769      110                                     Drama|History   \n",
       "10770      121                                       Drama|Crime   \n",
       "...        ...                                               ...   \n",
       "10861       95                                       Documentary   \n",
       "10862      176                            Action|Adventure|Drama   \n",
       "10863       94                                    Mystery|Comedy   \n",
       "10864       80                                     Action|Comedy   \n",
       "10865       74                                            Horror   \n",
       "\n",
       "                                    production_companies release_date  \\\n",
       "10766                                          Image Ten   1978-09-22   \n",
       "10767    Golden Harvest Company|Concord Productions Inc.   1978-03-22   \n",
       "10768  20th Century Fox Television|Smith-Hemion Produ...   1978-12-01   \n",
       "10769       Paramount Pictures|Synthetic Fur Productions   1978-04-05   \n",
       "10770             Columbia Pictures|Casablanca Filmworks   1978-10-06   \n",
       "...                                                  ...          ...   \n",
       "10861                                  Bruce Brown Films   2066-06-15   \n",
       "10862  Cherokee Productions|Joel Productions|Douglas ...   2066-12-21   \n",
       "10863                                            Mosfilm   2066-01-01   \n",
       "10864                            Benedict Pictures Corp.   2066-11-02   \n",
       "10865                                          Norm-Iris   2066-11-15   \n",
       "\n",
       "       vote_count  vote_average  release_year    profit  \n",
       "10766          12           6.0          1978   7185518  \n",
       "10767          50           6.4          1978         0  \n",
       "10768          45           3.2          1978         0  \n",
       "10769          20           5.9          1978         0  \n",
       "10770         141           7.5          1978  32700000  \n",
       "...           ...           ...           ...       ...  \n",
       "10861          11           7.4          1966         0  \n",
       "10862          20           5.7          1966         0  \n",
       "10863          11           6.5          1966         0  \n",
       "10864          22           5.4          1966         0  \n",
       "10865          15           1.5          1966    -19000  \n",
       "\n",
       "[100 rows x 15 columns]"
      ]
     },
     "execution_count": 15,
     "metadata": {},
     "output_type": "execute_result"
    }
   ],
   "source": [
    "#first we need to calculate profit by substract the budget from revenue\n",
    "tmbd['profit'] = tmbd['revenue'] - tmbd['budget']\n",
    "tmbd.tail(100)"
   ]
  },
  {
   "cell_type": "code",
   "execution_count": 16,
   "id": "7cc89788",
   "metadata": {},
   "outputs": [
    {
     "data": {
      "text/plain": [
       "id                                                                  19995\n",
       "popularity                                                       9.432768\n",
       "budget                                                          237000000\n",
       "revenue                                                        2781505847\n",
       "original_title                                                     Avatar\n",
       "cast                    Sam Worthington|Zoe Saldana|Sigourney Weaver|S...\n",
       "director                                                    James Cameron\n",
       "runtime                                                               162\n",
       "genres                           Action|Adventure|Fantasy|Science Fiction\n",
       "production_companies    Ingenious Film Partners|Twentieth Century Fox ...\n",
       "release_date                                          2009-12-10 00:00:00\n",
       "vote_count                                                           8458\n",
       "vote_average                                                          7.1\n",
       "release_year                                                         2009\n",
       "profit                                                         2544505847\n",
       "Name: 1386, dtype: object"
      ]
     },
     "execution_count": 16,
     "metadata": {},
     "output_type": "execute_result"
    }
   ],
   "source": [
    "#Movie with the highest profit\n",
    "tmbd.loc[tmbd['profit'].idxmax()]\n"
   ]
  },
  {
   "cell_type": "code",
   "execution_count": 17,
   "id": "c8a8d27a",
   "metadata": {},
   "outputs": [
    {
     "data": {
      "text/plain": [
       "id                                                                  46528\n",
       "popularity                                                        0.25054\n",
       "budget                                                          425000000\n",
       "revenue                                                          11087569\n",
       "original_title                                          The Warrior's Way\n",
       "cast                    Kate Bosworth|Jang Dong-gun|Geoffrey Rush|Dann...\n",
       "director                                                       Sngmoo Lee\n",
       "runtime                                                               100\n",
       "genres                          Adventure|Fantasy|Action|Western|Thriller\n",
       "production_companies                             Boram Entertainment Inc.\n",
       "release_date                                          2010-12-02 00:00:00\n",
       "vote_count                                                             74\n",
       "vote_average                                                          6.4\n",
       "release_year                                                         2010\n",
       "profit                                                         -413912431\n",
       "Name: 2244, dtype: object"
      ]
     },
     "execution_count": 17,
     "metadata": {},
     "output_type": "execute_result"
    }
   ],
   "source": [
    "#Movie with the lowest profit\n",
    "tmbd.loc[tmbd['profit'].idxmin()]"
   ]
  },
  {
   "cell_type": "markdown",
   "id": "7ea4cf3e",
   "metadata": {},
   "source": [
    "### The average runtime"
   ]
  },
  {
   "cell_type": "code",
   "execution_count": 18,
   "id": "afe44e9e",
   "metadata": {},
   "outputs": [
    {
     "data": {
      "text/plain": [
       "102.3638545320288"
      ]
     },
     "execution_count": 18,
     "metadata": {},
     "output_type": "execute_result"
    }
   ],
   "source": [
    "# Average runtime for all movies\n",
    "tmbd['runtime'].mean()"
   ]
  },
  {
   "cell_type": "markdown",
   "id": "47a1f8b2",
   "metadata": {},
   "source": [
    "The average runtime is 102.36"
   ]
  },
  {
   "cell_type": "code",
   "execution_count": 19,
   "id": "ae8d4999",
   "metadata": {},
   "outputs": [
    {
     "data": {
      "text/plain": [
       "count    10834.000000\n",
       "mean       102.363855\n",
       "std         30.948225\n",
       "min          2.000000\n",
       "25%         90.000000\n",
       "50%         99.000000\n",
       "75%        112.000000\n",
       "max        900.000000\n",
       "Name: runtime, dtype: float64"
      ]
     },
     "execution_count": 19,
     "metadata": {},
     "output_type": "execute_result"
    }
   ],
   "source": [
    "#specific runtime information\n",
    "tmbd['runtime'].describe()"
   ]
  },
  {
   "cell_type": "markdown",
   "id": "f0c6d353",
   "metadata": {},
   "source": [
    "Here we can see the minimum,maximum,average and some percentage of runtime.\n",
    "For example the maximum runtime is 900 minutes while the minimum is 2 minutes"
   ]
  },
  {
   "cell_type": "markdown",
   "id": "75a1aba1",
   "metadata": {},
   "source": [
    "### The relationship between popularity and revenue"
   ]
  },
  {
   "cell_type": "code",
   "execution_count": 20,
   "id": "86235e03",
   "metadata": {},
   "outputs": [],
   "source": [
    "# relationship between popularity and revenue (scatter)\n",
    "#we make a function called scatter_diagram which takes five attributes for plotting\n",
    "def scatter_diagram(atr1 , atr2 , atr3 , atr4 , atr5 ):\n",
    " tmbd.plot(x=atr1,y=atr2,kind='scatter')\n",
    " #diagram-title\n",
    " plt.title(atr3)\n",
    "  # x-axis\n",
    " plt.xlabel(atr4)\n",
    "  # y-axis\n",
    " plt.ylabel(atr5)\n"
   ]
  },
  {
   "cell_type": "code",
   "execution_count": 21,
   "id": "7bb3ff23",
   "metadata": {},
   "outputs": [
    {
     "data": {
      "image/png": "[encoded data removed]",
      "text/plain": [
       "<Figure size 432x288 with 1 Axes>"
      ]
     },
     "metadata": {
      "needs_background": "light"
     },
     "output_type": "display_data"
    }
   ],
   "source": [
    "scatter_diagram('popularity','revenue', 'popularity Vs revenue' ,'Popularity' ,'Revenue in Dollars');"
   ]
  },
  {
   "cell_type": "markdown",
   "id": "de29ef15",
   "metadata": {},
   "source": [
    "The relation between popularity and revenue is positive"
   ]
  },
  {
   "cell_type": "markdown",
   "id": "2ed6548a",
   "metadata": {},
   "source": [
    "### The relationship between budget and profit"
   ]
  },
  {
   "cell_type": "code",
   "execution_count": 22,
   "id": "4be62c1b",
   "metadata": {},
   "outputs": [
    {
     "data": {
      "image/png": "[encoded data removed]",
      "text/plain": [
       "<Figure size 432x288 with 1 Axes>"
      ]
     },
     "metadata": {
      "needs_background": "light"
     },
     "output_type": "display_data"
    }
   ],
   "source": [
    "# relationship between budget and profit (scatter)\n",
    "scatter_diagram('budget','profit','Budget Vs Profit','Budget in Dollars','Profit in Dollars')\n"
   ]
  },
  {
   "cell_type": "markdown",
   "id": "43d6b212",
   "metadata": {},
   "source": [
    "There isnt any significant relationship between budget and profit"
   ]
  },
  {
   "cell_type": "markdown",
   "id": "d865c82c",
   "metadata": {},
   "source": [
    "### The relationship between rating and profit"
   ]
  },
  {
   "cell_type": "code",
   "execution_count": 23,
   "id": "a7d56e89",
   "metadata": {},
   "outputs": [
    {
     "data": {
      "image/png": "[encoded data removed]",
      "text/plain": [
       "<Figure size 432x288 with 1 Axes>"
      ]
     },
     "metadata": {
      "needs_background": "light"
     },
     "output_type": "display_data"
    }
   ],
   "source": [
    "# relationship between rating and profit (scatter)\n",
    "scatter_diagram('vote_average','profit','Rating Vs Profit','Vote Average / Rating','Profit in Dollars')\n"
   ]
  },
  {
   "cell_type": "markdown",
   "id": "356274ef",
   "metadata": {},
   "source": [
    "Relation between rating and profit is right biased"
   ]
  },
  {
   "cell_type": "markdown",
   "id": "06fedef9",
   "metadata": {},
   "source": [
    "Now lets see if the top 10 movies based on profit,popularity and rating are the same or not"
   ]
  },
  {
   "cell_type": "markdown",
   "id": "7f7af43f",
   "metadata": {},
   "source": [
    "### Movies based on profit"
   ]
  },
  {
   "cell_type": "code",
   "execution_count": 24,
   "id": "397c7e26",
   "metadata": {},
   "outputs": [
    {
     "data": {
      "text/plain": [
       "original_title\n",
       "$5 a Day                                     0.0\n",
       "$9.99                                        0.0\n",
       "'71                                    1625847.0\n",
       "(500) Days of Summer                  53222734.0\n",
       "(T)Raumschiff Surprise - Periode 1           0.0\n",
       "                                         ...    \n",
       "ì•„ê¸°ì™€ ë‚˜                                0.0\n",
       "ì‹ ì˜ í•œ ìˆ˜                                0.0\n",
       "í¬í™” ì†ìœ¼ë¡œ                          -10000.0\n",
       "í˜•ì‚¬ Duelist                               0.0\n",
       "í•˜ìš¸ë§                                     0.0\n",
       "Name: profit, Length: 10541, dtype: float64"
      ]
     },
     "execution_count": 24,
     "metadata": {},
     "output_type": "execute_result"
    }
   ],
   "source": [
    "profit_movie = tmbd.groupby('original_title').mean().profit\n",
    "profit_movie"
   ]
  },
  {
   "cell_type": "code",
   "execution_count": 25,
   "id": "413c1880",
   "metadata": {},
   "outputs": [
    {
     "data": {
      "text/plain": [
       "original_title\n",
       "Avatar                                          2.544506e+09\n",
       "Star Wars: The Force Awakens                    1.868178e+09\n",
       "Jurassic World                                  1.363529e+09\n",
       "Furious 7                                       1.316249e+09\n",
       "Harry Potter and the Deathly Hallows: Part 2    1.202818e+09\n",
       "                                                    ...     \n",
       "Mars Needs Moms                                -1.110072e+08\n",
       "The Pacific                                    -1.200000e+08\n",
       "The Wolfman                                    -1.500000e+08\n",
       "The Lone Ranger                                -1.657101e+08\n",
       "The Warrior's Way                              -4.139124e+08\n",
       "Name: profit, Length: 10541, dtype: float64"
      ]
     },
     "execution_count": 25,
     "metadata": {},
     "output_type": "execute_result"
    }
   ],
   "source": [
    "sort_movie = profit_movie.sort_values(ascending=False) \n",
    "sort_movie"
   ]
  },
  {
   "cell_type": "code",
   "execution_count": 26,
   "id": "a322a552",
   "metadata": {},
   "outputs": [
    {
     "data": {
      "image/png": "[encoded data removed]",
      "text/plain": [
       "<Figure size 720x432 with 1 Axes>"
      ]
     },
     "metadata": {
      "needs_background": "light"
     },
     "output_type": "display_data"
    }
   ],
   "source": [
    "colors = ['#9467bd','#1f77b4', '#2ca02c', '#d62728', '#17becf' ,'#8c564b', '#e377c2', '#ff7f0e', '#bcbd22']\n",
    "sort_movie.head(10).plot(kind='barh',figsize=(10,6), color= colors)\n",
    "#diagram-title\n",
    "plt.title('Top 10 movies based on profits')\n",
    "# x-axis\n",
    "plt.xlabel('profit in dollars')\n",
    "# y-axis\n",
    "plt.ylabel('movies');\n"
   ]
  },
  {
   "cell_type": "markdown",
   "id": "e3b3f924",
   "metadata": {},
   "source": [
    "Based on profits the winner movie is avatar with 2.544506e+09 dollars"
   ]
  },
  {
   "cell_type": "markdown",
   "id": "c2eae15f",
   "metadata": {},
   "source": [
    "### Movies based on popularity"
   ]
  },
  {
   "cell_type": "code",
   "execution_count": 27,
   "id": "e2bd8b43",
   "metadata": {},
   "outputs": [
    {
     "data": {
      "text/plain": [
       "original_title\n",
       "$5 a Day                              0.298961\n",
       "$9.99                                 0.204302\n",
       "'71                                   1.220073\n",
       "(500) Days of Summer                  3.244139\n",
       "(T)Raumschiff Surprise - Periode 1    0.712887\n",
       "                                        ...   \n",
       "ì•„ê¸°ì™€ ë‚˜                         0.145331\n",
       "ì‹ ì˜ í•œ ìˆ˜                         0.205343\n",
       "í¬í™” ì†ìœ¼ë¡œ                        0.507092\n",
       "í˜•ì‚¬ Duelist                        0.265905\n",
       "í•˜ìš¸ë§                              0.142769\n",
       "Name: popularity, Length: 10541, dtype: float64"
      ]
     },
     "execution_count": 27,
     "metadata": {},
     "output_type": "execute_result"
    }
   ],
   "source": [
    "popularity_movie = tmbd.groupby('original_title').mean().popularity\n",
    "popularity_movie"
   ]
  },
  {
   "cell_type": "code",
   "execution_count": 28,
   "id": "0b540ac9",
   "metadata": {},
   "outputs": [
    {
     "data": {
      "text/plain": [
       "original_title\n",
       "Jurassic World                32.985763\n",
       "Mad Max: Fury Road            28.419936\n",
       "Interstellar                  24.949134\n",
       "Guardians of the Galaxy       14.311205\n",
       "Insurgent                     13.112507\n",
       "                                ...    \n",
       "Khosla Ka Ghosla!              0.001115\n",
       "Mon petit doigt m'a dit...     0.000973\n",
       "G.B.F.                         0.000620\n",
       "The Hospital                   0.000188\n",
       "North and South, Book I        0.000065\n",
       "Name: popularity, Length: 10541, dtype: float64"
      ]
     },
     "execution_count": 28,
     "metadata": {},
     "output_type": "execute_result"
    }
   ],
   "source": [
    "sort_movies = popularity_movie.sort_values(ascending=False) \n",
    "sort_movies"
   ]
  },
  {
   "cell_type": "code",
   "execution_count": 29,
   "id": "573998ca",
   "metadata": {},
   "outputs": [
    {
     "data": {
      "image/png": "[encoded data removed]",
      "text/plain": [
       "<Figure size 720x432 with 1 Axes>"
      ]
     },
     "metadata": {
      "needs_background": "light"
     },
     "output_type": "display_data"
    }
   ],
   "source": [
    "colors = ['#9467bd','#1f77b4', '#2ca02c', '#d62728', '#17becf' ,'#8c564b', '#e377c2', '#ff7f0e', '#bcbd22']\n",
    "sort_movies.head(10).plot(kind='barh',figsize=(10,6), color= colors)\n",
    "#diagram-title\n",
    "plt.title('Top 10 movies based on popularity')\n",
    "# x-axis\n",
    "plt.xlabel('popularity')\n",
    "# y-axis\n",
    "plt.ylabel('movies');"
   ]
  },
  {
   "cell_type": "markdown",
   "id": "46f2d51b",
   "metadata": {},
   "source": [
    "Based on second criteria popularity,the top 1 movie is Jurassic World with popularity of 32.985763"
   ]
  },
  {
   "cell_type": "markdown",
   "id": "ccd47d03",
   "metadata": {},
   "source": [
    "### Movies based on ratings"
   ]
  },
  {
   "cell_type": "code",
   "execution_count": 30,
   "id": "08918963",
   "metadata": {},
   "outputs": [
    {
     "data": {
      "text/plain": [
       "original_title\n",
       "$5 a Day                              5.4\n",
       "$9.99                                 6.1\n",
       "'71                                   6.6\n",
       "(500) Days of Summer                  7.3\n",
       "(T)Raumschiff Surprise - Periode 1    6.3\n",
       "                                     ... \n",
       "ì•„ê¸°ì™€ ë‚˜                         6.1\n",
       "ì‹ ì˜ í•œ ìˆ˜                         6.8\n",
       "í¬í™” ì†ìœ¼ë¡œ                        6.9\n",
       "í˜•ì‚¬ Duelist                        5.2\n",
       "í•˜ìš¸ë§                              5.8\n",
       "Name: vote_average, Length: 10541, dtype: float64"
      ]
     },
     "execution_count": 30,
     "metadata": {},
     "output_type": "execute_result"
    }
   ],
   "source": [
    "rating_movie = tmbd.groupby('original_title').mean().vote_average\n",
    "rating_movie"
   ]
  },
  {
   "cell_type": "code",
   "execution_count": 31,
   "id": "dfab703d",
   "metadata": {},
   "outputs": [
    {
     "data": {
      "text/plain": [
       "original_title\n",
       "The Story of Film: An Odyssey    9.2\n",
       "The Mask You Live In             8.9\n",
       "Black Mirror: White Christmas    8.8\n",
       "Life Cycles                      8.8\n",
       "Pink Floyd: Pulse                8.7\n",
       "                                ... \n",
       "Sand Sharks                      2.1\n",
       "Superbabies: Baby Geniuses 2     2.1\n",
       "Jurassic Shark                   2.0\n",
       "Transmorphers                    1.5\n",
       "Manos: The Hands of Fate         1.5\n",
       "Name: vote_average, Length: 10541, dtype: float64"
      ]
     },
     "execution_count": 31,
     "metadata": {},
     "output_type": "execute_result"
    }
   ],
   "source": [
    "sort_film = rating_movie.sort_values(ascending=False) \n",
    "sort_film"
   ]
  },
  {
   "cell_type": "code",
   "execution_count": 32,
   "id": "8c6529ef",
   "metadata": {},
   "outputs": [
    {
     "data": {
      "image/png": "[encoded data removed]",
      "text/plain": [
       "<Figure size 720x432 with 1 Axes>"
      ]
     },
     "metadata": {
      "needs_background": "light"
     },
     "output_type": "display_data"
    }
   ],
   "source": [
    "colors = ['#9467bd','#1f77b4', '#2ca02c', '#d62728', '#17becf' ,'#8c564b', '#e377c2', '#ff7f0e', '#bcbd22']\n",
    "sort_film.head(10).plot(kind='barh',figsize=(10,6), color= colors)\n",
    "#diagram-title\n",
    "plt.title('Top 10 movies based on rating')\n",
    "# x-axis\n",
    "plt.xlabel('rating')\n",
    "# y-axis\n",
    "plt.ylabel('movies');"
   ]
  },
  {
   "cell_type": "markdown",
   "id": "4cac4643",
   "metadata": {},
   "source": [
    "The third criteria of best movie is rating/vote_avg,The Story of Film:An Odyssey is the winner with 9.2"
   ]
  },
  {
   "cell_type": "markdown",
   "id": "58d2d0a1",
   "metadata": {},
   "source": [
    "### Directors based on Rating"
   ]
  },
  {
   "cell_type": "code",
   "execution_count": 33,
   "id": "e797c766",
   "metadata": {},
   "outputs": [
    {
     "data": {
      "text/plain": [
       "director\n",
       " FrÃ©dÃ©ric Jardin            5.9\n",
       "A.R. Murugadoss               6.9\n",
       "Aaron Aites                   6.5\n",
       "Aaron Blaise|Robert Walker    6.8\n",
       "Aaron Hann|Mario Miscione     6.1\n",
       "                             ... \n",
       "Ã‡aÄŸan Irmak                 8.2\n",
       "Ã‰mile Gaudreault             5.2\n",
       "Ã‰ric Besnard                 5.1\n",
       "Ã‰tienne Chatiliez            6.7\n",
       "Ã€lex Pastor|David Pastor     5.7\n",
       "Name: vote_average, Length: 5050, dtype: float64"
      ]
     },
     "execution_count": 33,
     "metadata": {},
     "output_type": "execute_result"
    }
   ],
   "source": [
    "#Top 10 director based in Rating\n",
    "top_director = tmbd.groupby('director').mean().vote_average\n",
    "top_director"
   ]
  },
  {
   "cell_type": "code",
   "execution_count": 34,
   "id": "d54ec6b7",
   "metadata": {},
   "outputs": [
    {
     "data": {
      "text/plain": [
       "director\n",
       "Mark Cousins                            9.2\n",
       "Derek Frankowski                        8.8\n",
       "David Mallet                            8.7\n",
       "Martin Scorsese|Michael Henry Wilson    8.5\n",
       "Curt Morgan                             8.5\n",
       "                                       ... \n",
       "Justin Russell                          2.2\n",
       "Lawrence Kasanoff                       2.2\n",
       "James Nguyen                            2.1\n",
       "Brett Kelly                             2.0\n",
       "Harold P. Warren                        1.5\n",
       "Name: vote_average, Length: 5050, dtype: float64"
      ]
     },
     "execution_count": 34,
     "metadata": {},
     "output_type": "execute_result"
    }
   ],
   "source": [
    "#sorting director diascending based on vote-average/rating\n",
    "sort_director = top_director.sort_values(ascending=False) \n",
    "sort_director"
   ]
  },
  {
   "cell_type": "code",
   "execution_count": 35,
   "id": "d23fef70",
   "metadata": {},
   "outputs": [
    {
     "data": {
      "image/png": "[encoded data removed]",
      "text/plain": [
       "<Figure size 720x432 with 1 Axes>"
      ]
     },
     "metadata": {
      "needs_background": "light"
     },
     "output_type": "display_data"
    }
   ],
   "source": [
    "colors = ['#1f77b4', '#ff7f0e', '#2ca02c', '#d62728', '#9467bd','#8c564b', '#e377c2', '#7f7f7f', '#bcbd22', '#17becf']\n",
    "sort_director.head(10).plot(kind='barh',figsize=(10,6), color= colors)\n",
    "#diagram-title\n",
    "plt.title('Top 10 Directors')\n",
    "# x-axis\n",
    "plt.xlabel('Ratings for all movies over the years')\n",
    "# y-axis\n",
    "plt.ylabel('Directors');\n"
   ]
  },
  {
   "cell_type": "markdown",
   "id": "dcc6ddf3",
   "metadata": {},
   "source": [
    "The best director based on rating is Mark Cousins with average vote of 9.2"
   ]
  },
  {
   "cell_type": "markdown",
   "id": "d55c587c",
   "metadata": {},
   "source": [
    "### Most 20 successful genres"
   ]
  },
  {
   "cell_type": "code",
   "execution_count": 36,
   "id": "0f389928",
   "metadata": {},
   "outputs": [
    {
     "data": {
      "text/plain": [
       "Drama              4751\n",
       "Comedy             3782\n",
       "Thriller           2905\n",
       "Action             2382\n",
       "Romance            1705\n",
       "Horror             1629\n",
       "Adventure          1470\n",
       "Crime              1353\n",
       "Family             1229\n",
       "Science Fiction    1228\n",
       "Fantasy             915\n",
       "Mystery             808\n",
       "Animation           699\n",
       "Documentary         517\n",
       "Music               401\n",
       "History             334\n",
       "War                 270\n",
       "Foreign             187\n",
       "Western             165\n",
       "TV Movie            164\n",
       "dtype: int64"
      ]
     },
     "execution_count": 36,
     "metadata": {},
     "output_type": "execute_result"
    }
   ],
   "source": [
    "top_genres = pd.Series(tmbd['genres'].str.cat(sep = '|').split('|')).value_counts(ascending = False)\n",
    "top_genres.head(20)\n"
   ]
  },
  {
   "cell_type": "code",
   "execution_count": 37,
   "id": "d2e900fe",
   "metadata": {},
   "outputs": [
    {
     "data": {
      "image/png": "[encoded data removed]",
      "text/plain": [
       "<Figure size 792x792 with 1 Axes>"
      ]
     },
     "metadata": {},
     "output_type": "display_data"
    }
   ],
   "source": [
    "top_genres.head(20).plot(kind='pie',figsize=(11, 11),autopct='%1.1f%%' )\n",
    "plt.title('Top 20 Genres')\n",
    "plt.legend(loc=9, bbox_to_anchor=(1.4, 1));\n"
   ]
  },
  {
   "cell_type": "markdown",
   "id": "952e4459",
   "metadata": {},
   "source": [
    "Drama is the most success genres with 4751 movie (17.7%) "
   ]
  },
  {
   "cell_type": "markdown",
   "id": "3c100a65",
   "metadata": {},
   "source": [
    "### Most 10 cast has appeared "
   ]
  },
  {
   "cell_type": "code",
   "execution_count": 38,
   "id": "0dd45bb5",
   "metadata": {},
   "outputs": [
    {
     "data": {
      "text/plain": [
       "Robert De Niro       72\n",
       "Samuel L. Jackson    71\n",
       "Bruce Willis         62\n",
       "Nicolas Cage         61\n",
       "Michael Caine        53\n",
       "Robin Williams       51\n",
       "John Cusack          50\n",
       "John Goodman         49\n",
       "Morgan Freeman       49\n",
       "Susan Sarandon       48\n",
       "dtype: int64"
      ]
     },
     "execution_count": 38,
     "metadata": {},
     "output_type": "execute_result"
    }
   ],
   "source": [
    "top_cast = pd.Series(tmbd['cast'].str.cat(sep = '|').split('|')).value_counts(ascending = False)\n",
    "top_cast.head(10)"
   ]
  },
  {
   "cell_type": "code",
   "execution_count": 39,
   "id": "5c847966",
   "metadata": {},
   "outputs": [
    {
     "data": {
      "image/png": "[encoded data removed]",
      "text/plain": [
       "<Figure size 720x432 with 1 Axes>"
      ]
     },
     "metadata": {
      "needs_background": "light"
     },
     "output_type": "display_data"
    }
   ],
   "source": [
    "colors = ['#1f77b4', '#2ca02c', '#d62728', '#9467bd','#8c564b', '#e377c2', '#7f7f7f', '#bcbd22','#ff7f0e', '#17becf']\n",
    "top_cast.head(10).plot(kind='bar',figsize=(10,6), color= colors)\n",
    "plt.title('Top 10 Cast')\n",
    "plt.xlabel('List of Cast')\n",
    "plt.ylabel('Number of movies');"
   ]
  },
  {
   "cell_type": "markdown",
   "id": "a9594a08",
   "metadata": {},
   "source": [
    "Roberto De Niro has the highest number of movies (72 movie)"
   ]
  },
  {
   "cell_type": "markdown",
   "id": "63176c84",
   "metadata": {},
   "source": [
    "### Chart represented the profits over the years"
   ]
  },
  {
   "cell_type": "code",
   "execution_count": 40,
   "id": "2325ce51",
   "metadata": {},
   "outputs": [
    {
     "data": {
      "image/png": "[encoded data removed]",
      "text/plain": [
       "<Figure size 864x432 with 1 Axes>"
      ]
     },
     "metadata": {
      "needs_background": "light"
     },
     "output_type": "display_data"
    }
   ],
   "source": [
    "\n",
    "profit_years = tmbd.groupby('release_year')['profit'].sum()\n",
    "\n",
    "plt.figure(figsize=(12,6))\n",
    "#title of the line plot\n",
    "plt.title('Total Profits earned by all movies during years (1960-2015).')\n",
    "#x-axis\n",
    "plt.xlabel('Release Year of Movies over the given years')\n",
    "#oy-axis\n",
    "plt.ylabel('Profits earned by Movies in dollars',)\n",
    "\n",
    "#plotting the graph\n",
    "plt.plot(profit_years);\n"
   ]
  },
  {
   "cell_type": "markdown",
   "id": "a292d0eb",
   "metadata": {},
   "source": [
    "The profit start on the period between (1970 and 1980),then continues to rise up untill reach the peak in 2015 with profits about 2e10"
   ]
  },
  {
   "cell_type": "markdown",
   "id": "bdc1439d",
   "metadata": {},
   "source": [
    "## Conclusion"
   ]
  },
  {
   "cell_type": "markdown",
   "id": "bf61f7ef",
   "metadata": {},
   "source": [
    "From quesions1:\n",
    "The highest one is avatar with profit of **2544505847** dollars\n",
    "The lowest one is The Warrior's Way with profit of **-413912431** dollarrs.\n",
    "\n",
    "From question2:\n",
    "The average run time of movies **102.36** minutes.\n",
    "\n",
    "From question3:\n",
    "We can see that as the **popularity** increase ,the **revenue** increase.\n",
    "\n",
    "From question4:\n",
    "There isn’t any noticeable relation between **budget** and **profit**.\n",
    "\n",
    "From question5:\n",
    "Itcan be notice that the relationship between the ratings vs profit **rightly-biased**\n",
    "\n",
    "From question6:\n",
    "The results are different based on the three criteria.It can be notice that **Avatar movie** is #1 based on profits,while based on popularity **Jurassic World** wins,finally based on rating criteria **The story of film:An Odyssey** is #1.\n",
    "\n",
    "From question7:\n",
    "**Mark Cousins** is the best director based on vote_avg/rating,then **Derek Frankowski** while the third director is**David Mallet**.\n",
    "\n",
    "From question8:\n",
    "Drama is the most genres then comedy,thriller,action,…….,etc.\n",
    "\n",
    "From question9:\n",
    "The most actor has appered is **Robert De Niro** then **Samuel L. Jackson**,**Bruce Willis**,**Nicolas Cage** ,...etc.\n",
    "\n",
    "From question10:\n",
    "The profits **increasing** over the years.\n",
    "\n"
   ]
  },
  {
   "cell_type": "markdown",
   "id": "ddbd359e",
   "metadata": {},
   "source": [
    "### Limitations:\n",
    "1. There are many null values that have been dropped which maybe could effect in the results.\n",
    "2. Profits of the movies not given which we calculated first from the budget and the revenue.\n",
    "3. The currency is not given and we assumed to be dollar,but maybe it is not.Therefore,the results of questions where currency is exist maybe not accurate.\n",
    "4. The pipe (|) in (Genres and cast) must be splitted first.\n",
    "5. We cannot say which movie is the top 1 because it depend on the criteria such as profit,rating and popularity.\n",
    "6. We noticed there are some rows with zer value in budget and profit and wii definetly effect the statistics."
   ]
  },
  {
   "cell_type": "code",
   "execution_count": null,
   "id": "eb79244b",
   "metadata": {},
   "outputs": [],
   "source": []
  },
  {
   "cell_type": "code",
   "execution_count": null,
   "id": "67edfe8f",
   "metadata": {},
   "outputs": [],
   "source": []
  }
 ],
 "metadata": {
  "kernelspec": {
   "display_name": "Python 3 (ipykernel)",
   "language": "python",
   "name": "python3"
  },
  "language_info": {
   "codemirror_mode": {
    "name": "ipython",
    "version": 3
   },
   "file_extension": ".py",
   "mimetype": "text/x-python",
   "name": "python",
   "nbconvert_exporter": "python",
   "pygments_lexer": "ipython3",
   "version": "3.9.12"
  }
 },
 "nbformat": 4,
 "nbformat_minor": 5
}
